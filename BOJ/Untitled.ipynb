{
 "cells": [
  {
   "cell_type": "code",
   "execution_count": 1,
   "id": "61b3f6c8",
   "metadata": {},
   "outputs": [],
   "source": [
    "## 10808"
   ]
  },
  {
   "cell_type": "code",
   "execution_count": 43,
   "id": "3b363789",
   "metadata": {},
   "outputs": [
    {
     "name": "stdout",
     "output_type": "stream",
     "text": [
      "baeckjoon\n",
      "1 1 1 0 1 0 0 0 0 1 1 0 0 1 2 0 0 0 0 0 0 0 0 0 0 0\n"
     ]
    }
   ],
   "source": [
    "word = input()\n",
    "alphabet_list = [chr(i) for i in range(ord('a'), ord('z') + 1)]\n",
    "result_list = [0] * 26\n",
    "for i in word:\n",
    "    index = alphabet_list.index(i)\n",
    "    result_list[index] += 1\n",
    "\n",
    "print(' '.join(str(i) for i in result_list))"
   ]
  },
  {
   "cell_type": "code",
   "execution_count": 24,
   "id": "2a57c2be",
   "metadata": {},
   "outputs": [],
   "source": [
    "import string\n",
    "word = input()\n",
    "alphabet_dict = dict.fromkeys(string.ascii_lowercase, 0)\n",
    "for i in word:\n",
    "    alphabet_dict[i] += 1\n",
    "\n",
    "print(' '.join(str(i) for i in alphabet_dict.values()))"
   ]
  },
  {
   "cell_type": "code",
   "execution_count": 47,
   "id": "cfe60352",
   "metadata": {},
   "outputs": [
    {
     "name": "stdout",
     "output_type": "stream",
     "text": [
      "baeckjoon\n",
      "1 1 1 0 1 0 0 0 0 1 1 0 0 1 2 0 0 0 0 0 0 0 0 0 0 0\n"
     ]
    }
   ],
   "source": [
    "word = input()\n",
    "result_list = [0] * 26\n",
    "for i in word:\n",
    "    index = ord(i) - ord('a')\n",
    "    result_list[index] += 1\n",
    "\n",
    "print(' '.join(str(i) for i in result_list))"
   ]
  },
  {
   "cell_type": "code",
   "execution_count": 46,
   "id": "93058e19",
   "metadata": {},
   "outputs": [
    {
     "data": {
      "text/plain": [
       "[97,\n",
       " 98,\n",
       " 99,\n",
       " 100,\n",
       " 101,\n",
       " 102,\n",
       " 103,\n",
       " 104,\n",
       " 105,\n",
       " 106,\n",
       " 107,\n",
       " 108,\n",
       " 109,\n",
       " 110,\n",
       " 111,\n",
       " 112,\n",
       " 113,\n",
       " 114,\n",
       " 115,\n",
       " 116,\n",
       " 117,\n",
       " 118,\n",
       " 119,\n",
       " 120,\n",
       " 121,\n",
       " 122]"
      ]
     },
     "execution_count": 46,
     "metadata": {},
     "output_type": "execute_result"
    }
   ],
   "source": [
    "[i for i in range(ord('a'), ord('z') + 1)]"
   ]
  },
  {
   "cell_type": "code",
   "execution_count": 2,
   "id": "d3ea199e",
   "metadata": {},
   "outputs": [],
   "source": [
    "## 2577\n"
   ]
  },
  {
   "cell_type": "code",
   "execution_count": 14,
   "id": "e540d305",
   "metadata": {},
   "outputs": [
    {
     "ename": "KeyboardInterrupt",
     "evalue": "Interrupted by user",
     "output_type": "error",
     "traceback": [
      "\u001b[0;31m---------------------------------------------------------------------------\u001b[0m",
      "\u001b[0;31mKeyboardInterrupt\u001b[0m                         Traceback (most recent call last)",
      "\u001b[0;32m<ipython-input-14-cfa6df544a2b>\u001b[0m in \u001b[0;36m<module>\u001b[0;34m\u001b[0m\n\u001b[0;32m----> 1\u001b[0;31m \u001b[0ma\u001b[0m \u001b[0;34m=\u001b[0m \u001b[0mint\u001b[0m\u001b[0;34m(\u001b[0m\u001b[0minput\u001b[0m\u001b[0;34m(\u001b[0m\u001b[0;34m)\u001b[0m\u001b[0;34m)\u001b[0m\u001b[0;34m\u001b[0m\u001b[0;34m\u001b[0m\u001b[0m\n\u001b[0m\u001b[1;32m      2\u001b[0m \u001b[0mb\u001b[0m \u001b[0;34m=\u001b[0m \u001b[0mint\u001b[0m\u001b[0;34m(\u001b[0m\u001b[0minput\u001b[0m\u001b[0;34m(\u001b[0m\u001b[0;34m)\u001b[0m\u001b[0;34m)\u001b[0m\u001b[0;34m\u001b[0m\u001b[0;34m\u001b[0m\u001b[0m\n\u001b[1;32m      3\u001b[0m \u001b[0mc\u001b[0m \u001b[0;34m=\u001b[0m \u001b[0mint\u001b[0m\u001b[0;34m(\u001b[0m\u001b[0minput\u001b[0m\u001b[0;34m(\u001b[0m\u001b[0;34m)\u001b[0m\u001b[0;34m)\u001b[0m\u001b[0;34m\u001b[0m\u001b[0;34m\u001b[0m\u001b[0m\n\u001b[1;32m      4\u001b[0m \u001b[0;34m\u001b[0m\u001b[0m\n\u001b[1;32m      5\u001b[0m \u001b[0mmultiplication_result\u001b[0m \u001b[0;34m=\u001b[0m \u001b[0ma\u001b[0m \u001b[0;34m*\u001b[0m \u001b[0mb\u001b[0m \u001b[0;34m*\u001b[0m \u001b[0mc\u001b[0m\u001b[0;34m\u001b[0m\u001b[0;34m\u001b[0m\u001b[0m\n",
      "\u001b[0;32m~/.pyenv/versions/3.6.8/lib/python3.6/site-packages/ipykernel/kernelbase.py\u001b[0m in \u001b[0;36mraw_input\u001b[0;34m(self, prompt)\u001b[0m\n\u001b[1;32m    852\u001b[0m             \u001b[0mself\u001b[0m\u001b[0;34m.\u001b[0m\u001b[0m_parent_ident\u001b[0m\u001b[0;34m,\u001b[0m\u001b[0;34m\u001b[0m\u001b[0;34m\u001b[0m\u001b[0m\n\u001b[1;32m    853\u001b[0m             \u001b[0mself\u001b[0m\u001b[0;34m.\u001b[0m\u001b[0m_parent_header\u001b[0m\u001b[0;34m,\u001b[0m\u001b[0;34m\u001b[0m\u001b[0;34m\u001b[0m\u001b[0m\n\u001b[0;32m--> 854\u001b[0;31m             \u001b[0mpassword\u001b[0m\u001b[0;34m=\u001b[0m\u001b[0;32mFalse\u001b[0m\u001b[0;34m,\u001b[0m\u001b[0;34m\u001b[0m\u001b[0;34m\u001b[0m\u001b[0m\n\u001b[0m\u001b[1;32m    855\u001b[0m         )\n\u001b[1;32m    856\u001b[0m \u001b[0;34m\u001b[0m\u001b[0m\n",
      "\u001b[0;32m~/.pyenv/versions/3.6.8/lib/python3.6/site-packages/ipykernel/kernelbase.py\u001b[0m in \u001b[0;36m_input_request\u001b[0;34m(self, prompt, ident, parent, password)\u001b[0m\n\u001b[1;32m    893\u001b[0m             \u001b[0;32mexcept\u001b[0m \u001b[0mKeyboardInterrupt\u001b[0m\u001b[0;34m:\u001b[0m\u001b[0;34m\u001b[0m\u001b[0;34m\u001b[0m\u001b[0m\n\u001b[1;32m    894\u001b[0m                 \u001b[0;31m# re-raise KeyboardInterrupt, to truncate traceback\u001b[0m\u001b[0;34m\u001b[0m\u001b[0;34m\u001b[0m\u001b[0;34m\u001b[0m\u001b[0m\n\u001b[0;32m--> 895\u001b[0;31m                 \u001b[0;32mraise\u001b[0m \u001b[0mKeyboardInterrupt\u001b[0m\u001b[0;34m(\u001b[0m\u001b[0;34m\"Interrupted by user\"\u001b[0m\u001b[0;34m)\u001b[0m \u001b[0;32mfrom\u001b[0m \u001b[0;32mNone\u001b[0m\u001b[0;34m\u001b[0m\u001b[0;34m\u001b[0m\u001b[0m\n\u001b[0m\u001b[1;32m    896\u001b[0m             \u001b[0;32mexcept\u001b[0m \u001b[0mException\u001b[0m \u001b[0;32mas\u001b[0m \u001b[0me\u001b[0m\u001b[0;34m:\u001b[0m\u001b[0;34m\u001b[0m\u001b[0;34m\u001b[0m\u001b[0m\n\u001b[1;32m    897\u001b[0m                 \u001b[0mself\u001b[0m\u001b[0;34m.\u001b[0m\u001b[0mlog\u001b[0m\u001b[0;34m.\u001b[0m\u001b[0mwarning\u001b[0m\u001b[0;34m(\u001b[0m\u001b[0;34m\"Invalid Message:\"\u001b[0m\u001b[0;34m,\u001b[0m \u001b[0mexc_info\u001b[0m\u001b[0;34m=\u001b[0m\u001b[0;32mTrue\u001b[0m\u001b[0;34m)\u001b[0m\u001b[0;34m\u001b[0m\u001b[0;34m\u001b[0m\u001b[0m\n",
      "\u001b[0;31mKeyboardInterrupt\u001b[0m: Interrupted by user"
     ]
    }
   ],
   "source": [
    "a = int(input())\n",
    "b = int(input())\n",
    "c = int(input())\n",
    "\n",
    "multiplication_result = a * b * c\n",
    "result_list = [0] * 10\n",
    "for i in str(multiplication_result):\n",
    "    index = ord(i) - ord('0')\n",
    "    result_list[index] += 1\n",
    "\n",
    "print(' '.join(str(i) for i in result_list))"
   ]
  },
  {
   "cell_type": "code",
   "execution_count": null,
   "id": "7b4e354c",
   "metadata": {},
   "outputs": [],
   "source": [
    "a = int(input())\n",
    "b = int(input())\n",
    "c = int(input())\n",
    "\n",
    "d = list(map(int, (str(a * b * c))))\n",
    "\n",
    "for i in range(10):\n",
    "    print(d.count(i))"
   ]
  },
  {
   "cell_type": "code",
   "execution_count": 17,
   "id": "74142be2",
   "metadata": {},
   "outputs": [
    {
     "name": "stdout",
     "output_type": "stream",
     "text": [
      "9999\n"
     ]
    }
   ],
   "source": [
    "#1475\n",
    "room_number = int(input())\n"
   ]
  },
  {
   "cell_type": "code",
   "execution_count": null,
   "id": "2fe2f1e8",
   "metadata": {},
   "outputs": [],
   "source": [
    "room_number = input()\n",
    "result_list = [0] * 10\n",
    "result = 1\n",
    "for i in str(room_number):\n",
    "    index = ord(i) - ord('0')\n",
    "\n",
    "    if result_list[index] != 0:\n",
    "        if i == '6' and result_list[9] == 0:\n",
    "            result_list[9] += 1 \n",
    "        elif i == '9' and result_list[6] == 0:\n",
    "            result_list[6] += 1\n",
    "        else:\n",
    "            result += 1\n",
    "    else:\n",
    "        result_list[index] += 1\n",
    "    \n",
    "    \n",
    "print(result)"
   ]
  },
  {
   "cell_type": "code",
   "execution_count": 94,
   "id": "99b50f84",
   "metadata": {},
   "outputs": [
    {
     "name": "stdout",
     "output_type": "stream",
     "text": [
      "12635\n",
      "1\n"
     ]
    }
   ],
   "source": [
    "room_number = input()\n",
    "result_list = [0] * 10\n",
    "result = 1\n",
    "for i in str(room_number):\n",
    "    result_list[int(i)] += 1\n",
    "    \n",
    "for i in str(room_number):\n",
    "    i = int(i)\n",
    "    if (i == 6 or i == 9):\n",
    "        continue\n",
    "    result = max(result, result_list[i])\n",
    "    \n",
    "result = max(result, (result_list[6]+result_list[9]+1)//2)\n",
    "print(result)"
   ]
  },
  {
   "cell_type": "code",
   "execution_count": 98,
   "id": "a5db0bbe",
   "metadata": {},
   "outputs": [
    {
     "name": "stdout",
     "output_type": "stream",
     "text": [
      "9999\n",
      "4\n"
     ]
    }
   ],
   "source": [
    "room_number = input()\n",
    "result_list = [room_number.count(str(i)) for i in range(10)]\n",
    "result_list[6] = (result_list[6] + result_list[9]) + 1 // 2 \n",
    "result_list[9] = result_list[6]\n",
    "print(max(result_list))"
   ]
  },
  {
   "cell_type": "code",
   "execution_count": 105,
   "id": "6104ca53",
   "metadata": {},
   "outputs": [
    {
     "name": "stdout",
     "output_type": "stream",
     "text": [
      "9\n",
      "5 12 7 10 9 1 2 3 11\n",
      "13\n",
      "[5, 12, 7, 10, 9, 1, 2, 3, 11]\n"
     ]
    },
    {
     "ename": "IndexError",
     "evalue": "list index out of range",
     "output_type": "error",
     "traceback": [
      "\u001b[0;31m---------------------------------------------------------------------------\u001b[0m",
      "\u001b[0;31mIndexError\u001b[0m                                Traceback (most recent call last)",
      "\u001b[0;32m<ipython-input-105-e42d4ca1cdb8>\u001b[0m in \u001b[0;36m<module>\u001b[0;34m\u001b[0m\n\u001b[1;32m     11\u001b[0m         \u001b[0mresult\u001b[0m \u001b[0;34m+=\u001b[0m \u001b[0;36m1\u001b[0m\u001b[0;34m\u001b[0m\u001b[0;34m\u001b[0m\u001b[0m\n\u001b[1;32m     12\u001b[0m         \u001b[0;32mcontinue\u001b[0m\u001b[0;34m\u001b[0m\u001b[0;34m\u001b[0m\u001b[0m\n\u001b[0;32m---> 13\u001b[0;31m     \u001b[0moccur\u001b[0m\u001b[0;34m[\u001b[0m\u001b[0ma\u001b[0m\u001b[0;34m[\u001b[0m\u001b[0mnum\u001b[0m\u001b[0;34m]\u001b[0m\u001b[0;34m]\u001b[0m \u001b[0;34m=\u001b[0m \u001b[0;36m1\u001b[0m\u001b[0;34m\u001b[0m\u001b[0;34m\u001b[0m\u001b[0m\n\u001b[0m\u001b[1;32m     14\u001b[0m \u001b[0;34m\u001b[0m\u001b[0m\n\u001b[1;32m     15\u001b[0m \u001b[0mprint\u001b[0m\u001b[0;34m(\u001b[0m\u001b[0mresult\u001b[0m\u001b[0;34m)\u001b[0m\u001b[0;34m\u001b[0m\u001b[0;34m\u001b[0m\u001b[0m\n",
      "\u001b[0;31mIndexError\u001b[0m: list index out of range"
     ]
    }
   ],
   "source": [
    "## 3273\n",
    "n = int(input())\n",
    "a = [x for x in map(int,input().split())]\n",
    "x = int(input())\n",
    "\n",
    "result = 0 \n",
    "for index, num in enumerate(a):\n",
    "    temp = x - num\n",
    "    if temp in (a[index+1:]):\n",
    "        result += 1\n",
    "print(result)"
   ]
  },
  {
   "cell_type": "code",
   "execution_count": 147,
   "id": "23f6258b",
   "metadata": {},
   "outputs": [
    {
     "name": "stdout",
     "output_type": "stream",
     "text": [
      "9\n",
      "5 12 7 10 9 1 2 3 11\n",
      "13\n",
      "3\n"
     ]
    }
   ],
   "source": [
    "n = int(input())\n",
    "a = [i for i in map(int,input().split())]\n",
    "x = int(input())\n",
    "\n",
    "nums_dict = {}\n",
    "result = 0\n",
    "for i in a:\n",
    "    nums_dict[i] = False\n",
    "    \n",
    "for num in a:\n",
    "    if nums_dict.get(x - num):\n",
    "        result += 1\n",
    "    nums_dict[num] = True\n",
    "\n",
    "print(result)"
   ]
  },
  {
   "cell_type": "code",
   "execution_count": 146,
   "id": "edb56cc2",
   "metadata": {},
   "outputs": [
    {
     "name": "stdout",
     "output_type": "stream",
     "text": [
      "9\n",
      "5 12 7 10 9 1 2 3 11\n",
      "13\n",
      "3\n"
     ]
    }
   ],
   "source": [
    "n = int(input())\n",
    "a = [i for i in map(int,input().split())]\n",
    "x = int(input())\n",
    "\n",
    "nums_list = [False] * 2000001\n",
    "result = 0\n",
    "for i in range(n):\n",
    "    if (x - a[i] > 0 and nums_list[x-a[i]]):\n",
    "        result += 1\n",
    "    nums_list[a[i]] = True\n",
    "    \n",
    "print(result)"
   ]
  }
 ],
 "metadata": {
  "kernelspec": {
   "display_name": "Python 3",
   "language": "python",
   "name": "python3"
  },
  "language_info": {
   "codemirror_mode": {
    "name": "ipython",
    "version": 3
   },
   "file_extension": ".py",
   "mimetype": "text/x-python",
   "name": "python",
   "nbconvert_exporter": "python",
   "pygments_lexer": "ipython3",
   "version": "3.6.8"
  }
 },
 "nbformat": 4,
 "nbformat_minor": 5
}
