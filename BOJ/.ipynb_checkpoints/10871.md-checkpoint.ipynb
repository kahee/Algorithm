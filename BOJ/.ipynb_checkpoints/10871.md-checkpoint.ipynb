{
 "cells": [
  {
   "cell_type": "markdown",
   "id": "c446bddc",
   "metadata": {},
   "source": [
    "# 10871 "
   ]
  },
  {
   "cell_type": "code",
   "execution_count": 36,
   "id": "2fc9b3dd",
   "metadata": {},
   "outputs": [
    {
     "name": "stdout",
     "output_type": "stream",
     "text": [
      "10 5\n",
      "1 10 4 9 2 3 8 5 7 6\n"
     ]
    }
   ],
   "source": [
    "n, x = input().split()\n",
    "nums = input()\n",
    "nums = [i for i in nums.split(' ') if int(i) < int(x)]\n",
    "print(' '.join(nums))"
   ]
  },
  {
   "cell_type": "markdown",
   "id": "a0416198",
   "metadata": {},
   "source": [
    "## 다른 사람이 짠 코드"
   ]
  },
  {
   "cell_type": "code",
   "execution_count": 41,
   "id": "9ed63f67",
   "metadata": {},
   "outputs": [
    {
     "name": "stdout",
     "output_type": "stream",
     "text": [
      "10 5\n",
      "1 10 4 9 2 3 8 5 7 6\n",
      "1 4 2 3\n"
     ]
    }
   ],
   "source": [
    "a,b = map(int,input().split())\n",
    "score = [x for x in input().split() if int(x)<b]\n",
    "print(' '.join(score))"
   ]
  },
  {
   "cell_type": "code",
   "execution_count": null,
   "id": "590713f1",
   "metadata": {},
   "outputs": [],
   "source": []
  }
 ],
 "metadata": {
  "kernelspec": {
   "display_name": "Python 3",
   "language": "python",
   "name": "python3"
  },
  "language_info": {
   "codemirror_mode": {
    "name": "ipython",
    "version": 3
   },
   "file_extension": ".py",
   "mimetype": "text/x-python",
   "name": "python",
   "nbconvert_exporter": "python",
   "pygments_lexer": "ipython3",
   "version": "3.6.8"
  }
 },
 "nbformat": 4,
 "nbformat_minor": 5
}
