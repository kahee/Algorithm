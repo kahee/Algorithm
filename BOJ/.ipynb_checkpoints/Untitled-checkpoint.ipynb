{
 "cells": [
  {
   "cell_type": "code",
   "execution_count": 1,
   "id": "61b3f6c8",
   "metadata": {},
   "outputs": [],
   "source": [
    "## 10808"
   ]
  },
  {
   "cell_type": "code",
   "execution_count": 43,
   "id": "3b363789",
   "metadata": {},
   "outputs": [
    {
     "name": "stdout",
     "output_type": "stream",
     "text": [
      "baeckjoon\n",
      "1 1 1 0 1 0 0 0 0 1 1 0 0 1 2 0 0 0 0 0 0 0 0 0 0 0\n"
     ]
    }
   ],
   "source": [
    "word = input()\n",
    "alphabet_list = [chr(i) for i in range(ord('a'), ord('z') + 1)]\n",
    "result_list = [0] * 26\n",
    "for i in word:\n",
    "    index = alphabet_list.index(i)\n",
    "    result_list[index] += 1\n",
    "\n",
    "print(' '.join(str(i) for i in result_list))"
   ]
  },
  {
   "cell_type": "code",
   "execution_count": 24,
   "id": "2a57c2be",
   "metadata": {},
   "outputs": [],
   "source": [
    "import string\n",
    "word = input()\n",
    "alphabet_dict = dict.fromkeys(string.ascii_lowercase, 0)\n",
    "for i in word:\n",
    "    alphabet_dict[i] += 1\n",
    "\n",
    "print(' '.join(str(i) for i in alphabet_dict.values()))"
   ]
  },
  {
   "cell_type": "code",
   "execution_count": 47,
   "id": "cfe60352",
   "metadata": {},
   "outputs": [
    {
     "name": "stdout",
     "output_type": "stream",
     "text": [
      "baeckjoon\n",
      "1 1 1 0 1 0 0 0 0 1 1 0 0 1 2 0 0 0 0 0 0 0 0 0 0 0\n"
     ]
    }
   ],
   "source": [
    "word = input()\n",
    "result_list = [0] * 26\n",
    "for i in word:\n",
    "    index = ord(i) - ord('a')\n",
    "    result_list[index] += 1\n",
    "\n",
    "print(' '.join(str(i) for i in result_list))"
   ]
  },
  {
   "cell_type": "code",
   "execution_count": 46,
   "id": "93058e19",
   "metadata": {},
   "outputs": [
    {
     "data": {
      "text/plain": [
       "[97,\n",
       " 98,\n",
       " 99,\n",
       " 100,\n",
       " 101,\n",
       " 102,\n",
       " 103,\n",
       " 104,\n",
       " 105,\n",
       " 106,\n",
       " 107,\n",
       " 108,\n",
       " 109,\n",
       " 110,\n",
       " 111,\n",
       " 112,\n",
       " 113,\n",
       " 114,\n",
       " 115,\n",
       " 116,\n",
       " 117,\n",
       " 118,\n",
       " 119,\n",
       " 120,\n",
       " 121,\n",
       " 122]"
      ]
     },
     "execution_count": 46,
     "metadata": {},
     "output_type": "execute_result"
    }
   ],
   "source": [
    "[i for i in range(ord('a'), ord('z') + 1)]"
   ]
  }
 ],
 "metadata": {
  "kernelspec": {
   "display_name": "Python 3",
   "language": "python",
   "name": "python3"
  },
  "language_info": {
   "codemirror_mode": {
    "name": "ipython",
    "version": 3
   },
   "file_extension": ".py",
   "mimetype": "text/x-python",
   "name": "python",
   "nbconvert_exporter": "python",
   "pygments_lexer": "ipython3",
   "version": "3.6.8"
  }
 },
 "nbformat": 4,
 "nbformat_minor": 5
}
